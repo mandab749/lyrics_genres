{
 "cells": [
  {
   "cell_type": "markdown",
   "metadata": {},
   "source": [
    "# Predicting Song Genre from Song Lyrics\n",
    "\n",
    "### Predicting using Naive Bayes (Part 2)\n",
    "\n",
    "The data is an accumulation of 380,000+ lyrics from the website MetroLyrics.com. We have multiple artists in 10 varying genres ranging from Pop & Rock to Indie & Folk. The songs range from years 1960 to 2016. \n",
    "\n",
    "The goal of the project was, as said in title, to predict genre based on the lyrics. In order to tackle this problem, this involved doing natural language processing in order to effectively analyze the lyrics. "
   ]
  },
  {
   "cell_type": "code",
   "execution_count": 21,
   "metadata": {},
   "outputs": [],
   "source": [
    "import pandas as pd\n",
    "import numpy as np\n",
    "from nltk.tokenize import word_tokenize\n",
    "from nltk import pos_tag\n",
    "from nltk.corpus import stopwords\n",
    "from nltk.stem import WordNetLemmatizer\n",
    "from sklearn.preprocessing import LabelEncoder\n",
    "from collections import defaultdict\n",
    "from nltk.corpus import wordnet as wn\n",
    "from sklearn.feature_extraction.text import TfidfVectorizer\n",
    "from sklearn import model_selection, naive_bayes, svm\n",
    "from sklearn.metrics import accuracy_score\n",
    "import seaborn as sns\n",
    "from PIL import Image\n",
    "from wordcloud import WordCloud, STOPWORDS, ImageColorGenerator\n",
    "from sklearn.feature_extraction.text import CountVectorizer\n",
    "from sklearn.naive_bayes import MultinomialNB\n",
    "from sklearn.metrics import roc_auc_score\n",
    "from sklearn import preprocessing"
   ]
  },
  {
   "cell_type": "code",
   "execution_count": 22,
   "metadata": {
    "scrolled": false
   },
   "outputs": [
    {
     "name": "stderr",
     "output_type": "stream",
     "text": [
      "[nltk_data] Downloading package wordnet to\n",
      "[nltk_data]     C:\\Users\\Manda\\AppData\\Roaming\\nltk_data...\n",
      "[nltk_data]   Package wordnet is already up-to-date!\n",
      "[nltk_data] Downloading package averaged_perceptron_tagger to\n",
      "[nltk_data]     C:\\Users\\Manda\\AppData\\Roaming\\nltk_data...\n",
      "[nltk_data]   Package averaged_perceptron_tagger is already up-to-\n",
      "[nltk_data]       date!\n",
      "[nltk_data] Downloading package stopwords to\n",
      "[nltk_data]     C:\\Users\\Manda\\AppData\\Roaming\\nltk_data...\n",
      "[nltk_data]   Package stopwords is already up-to-date!\n",
      "[nltk_data] Downloading package punkt to\n",
      "[nltk_data]     C:\\Users\\Manda\\AppData\\Roaming\\nltk_data...\n",
      "[nltk_data]   Package punkt is already up-to-date!\n"
     ]
    },
    {
     "data": {
      "text/plain": [
       "True"
      ]
     },
     "execution_count": 22,
     "metadata": {},
     "output_type": "execute_result"
    }
   ],
   "source": [
    "import nltk\n",
    "nltk.download('wordnet')\n",
    "nltk.download('averaged_perceptron_tagger')\n",
    "nltk.download('stopwords')\n",
    "nltk.download('punkt')"
   ]
  },
  {
   "cell_type": "markdown",
   "metadata": {},
   "source": [
    "## This is the cleaned lyrics data from Part 1"
   ]
  },
  {
   "cell_type": "code",
   "execution_count": 4,
   "metadata": {},
   "outputs": [],
   "source": [
    "df2 = pd.read_csv('lyrics_final.csv', delimiter=',')"
   ]
  },
  {
   "cell_type": "markdown",
   "metadata": {},
   "source": [
    "### Split Data for Train & Test"
   ]
  },
  {
   "cell_type": "code",
   "execution_count": 7,
   "metadata": {
    "scrolled": true
   },
   "outputs": [],
   "source": [
    "Train_X, Test_X, Train_Y, Test_Y = model_selection.train_test_split(df2['lyrics_final'],df2['genre'],test_size=0.3)"
   ]
  },
  {
   "cell_type": "markdown",
   "metadata": {},
   "source": [
    "# What is TFIDF Vectorizer - Measuring Originality\n",
    "\n",
    "### TFIDF - term-frequency x inverse document-frequency\n",
    "\n",
    "TFIDF takes an occurence of a token (i.e. a lemmatized word) in the data and scales down the impact of these tokens that occur very frequently in our data. In our example, this means a lemmatized word would be \"less informative\" if it occured more frequently across all genres. A key example of this would be the word \"love\".\n",
    "\n",
    "The tf-idf is a statistic that increases with the number of times a word appears in the document (lyrics of a song), penalized by the number of genres in the data that contain that word.\n",
    "\n",
    "However, if a lemmatized word appeared more frequently in a particular genre it would be more valuable/original, and we would  capture that originality which will help us predict the genre of that that group of words. \n",
    "\n",
    "\n",
    "------------------\n",
    "\n",
    "max_df - ignoring terms that have a document frequency higher than 0.7  \n",
    ".fit() - fits the vocabulary and term frequencies of word-vector   \n",
    ".transform() - using \"fit()\" calculation parameters, apply the transformation to a dataset.  \n",
    "  "
   ]
  },
  {
   "cell_type": "code",
   "execution_count": 8,
   "metadata": {},
   "outputs": [],
   "source": [
    "Tfidf_vect = TfidfVectorizer(sublinear_tf=True, max_features=10000, max_df=0.7) #igoring\n",
    "Tfidf_vect.fit(df2['lyrics_final'])\n",
    "Train_X_Tfidf = Tfidf_vect.transform(Train_X)\n",
    "Test_X_Tfidf = Tfidf_vect.transform(Test_X)"
   ]
  },
  {
   "cell_type": "markdown",
   "metadata": {},
   "source": [
    "### What is a TFIDF Vector?\n",
    "\n",
    "First Column: Document index (song lyrics) \n",
    "\n",
    "Second Column: Specific word-vector index (lemmatized word in lyrics)  \n",
    "\n",
    "Third Column: TFIDF score (\"originality score\") for word in lyrics\n",
    "\n",
    "----------------\n",
    "\n",
    "Here is an example of what a tfidf sparse matrix looks like:"
   ]
  },
  {
   "cell_type": "code",
   "execution_count": 1,
   "metadata": {},
   "outputs": [],
   "source": [
    "#vocab dictionary - a mapping of terms to feature indices.\n",
    "#print(Tfidf_vect.vocabulary_)"
   ]
  },
  {
   "cell_type": "markdown",
   "metadata": {},
   "source": [
    "### TFIDF Output\n",
    "\n",
    "We see here a more tangible look at the tfidf sparse matrix using .get_feature_names(). get_features_names() shows, in alphabetical order, the words of the word-vectors that would be in column 2.\n",
    "\n",
    "The print statement is what \"Tfidf_vect.fit(df2['lyrics_final'].head(2)).get_feature_names()\" output looks like but in a more visually friendly way"
   ]
  },
  {
   "cell_type": "code",
   "execution_count": 16,
   "metadata": {},
   "outputs": [],
   "source": [
    "#these are examples of what the second column of tfidf_vect represents\n",
    "#Tfidf_vect.fit(df2['lyrics_final'].head(2)).get_feature_names()"
   ]
  },
  {
   "cell_type": "code",
   "execution_count": 17,
   "metadata": {},
   "outputs": [
    {
     "name": "stdout",
     "output_type": "stream",
     "text": [
      "['accelerate', 'across', 'allow', 'another', 'as', 'away', 'awful', 'back', 'balch', 'blinding', 'bob', 'breakin', 'certain', 'check', 'clear', 'coca', 'cola', 'cold', 'control', 'cover', 'day', 'different', 'dull', 'ever', 'fact', 'fake', 'fault', 'feel', 'field', 'find', 'first', 'fish', 'floor', 'foot', 'four', 'friend', 'gain', 'gasoline', 'give', 'glass', 'go', 'habit', 'hidden', 'impossible', 'known', 'light', 'line', 'little', 'lot', 'mad', 'mean', 'miserable', 'mola', 'motionless', 'never', 'notice', 'observe', 'party', 'pass', 'people', 'pick', 'pretty', 'read', 'revive', 'road', 'rock', 'route', 'say', 'see', 'seem', 'shaky', 'sign', 'sin', 'since', 'start', 'sunday', 'sure', 'talk', 'tell', 'think', 'time', 'urethane', 'watch', 'water', 'way', 'would', 'year']\n"
     ]
    }
   ],
   "source": [
    "print(['accelerate', 'across', 'allow', 'another', 'as', 'away', 'awful', 'back', 'balch', 'blinding', 'bob', 'breakin', 'certain', 'check', 'clear', 'coca', 'cola', 'cold', 'control', 'cover', 'day', 'different', 'dull', 'ever', 'fact', 'fake', 'fault', 'feel', 'field', 'find', 'first', 'fish', 'floor', 'foot', 'four', 'friend', 'gain', 'gasoline', 'give', 'glass', 'go', 'habit', 'hidden', 'impossible', 'known', 'light', 'line', 'little', 'lot', 'mad', 'mean', 'miserable', 'mola', 'motionless', 'never', 'notice', 'observe', 'party', 'pass', 'people', 'pick', 'pretty', 'read', 'revive', 'road', 'rock', 'route', 'say', 'see', 'seem', 'shaky', 'sign', 'sin', 'since', 'start', 'sunday', 'sure', 'talk', 'tell', 'think', 'time', 'urethane', 'watch', 'water', 'way', 'would', 'year'])"
   ]
  },
  {
   "cell_type": "markdown",
   "metadata": {},
   "source": [
    "# Naive Bayes - Multinomial\n",
    "\n",
    "With tfidf, the term frequencies are used to compute the maximum-likelihood estimate based on the training data to estimate the class-conditional probabilities in the multinomial model. "
   ]
  },
  {
   "cell_type": "code",
   "execution_count": 23,
   "metadata": {},
   "outputs": [
    {
     "name": "stdout",
     "output_type": "stream",
     "text": [
      "Naive Bayes Accuracy Score TFIDF: 57.09416276097146\n"
     ]
    }
   ],
   "source": [
    "#TFIDF\n",
    "Naive = naive_bayes.MultinomialNB(alpha = .01)\n",
    "Naive.fit(Train_X_Tfidf,Train_Y)\n",
    "predictions_NB = Naive.predict(Test_X_Tfidf)\n",
    "print(\"Naive Bayes Accuracy Score TFIDF:\",accuracy_score(predictions_NB, Test_Y)*100)\n"
   ]
  },
  {
   "cell_type": "code",
   "execution_count": 26,
   "metadata": {},
   "outputs": [
    {
     "data": {
      "image/png": "[encoded data removed]",
      "text/plain": [
       "<Figure size 800x640 with 1 Axes>"
      ]
     },
     "metadata": {},
     "output_type": "display_data"
    }
   ],
   "source": [
    "from sklearn.metrics import confusion_matrix\n",
    "import matplotlib.pyplot as plt\n",
    "from matplotlib.pyplot import figure\n",
    "\n",
    "figure(num=None, figsize=(10, 8), dpi=80, facecolor='w', edgecolor='k')\n",
    "\n",
    "genres = ['Jazz','Metal', 'Pop',  'Rock', 'Hip-Hop', 'Country', 'Indie','R&B', 'Electronic', 'Other', 'Folk']\n",
    "mat = confusion_matrix(Test_Y, predictions_NB, genres)\n",
    "sns.heatmap(\n",
    "    mat.T, square=True, annot=True, fmt='d', cbar=False,\n",
    "    xticklabels=genres, \n",
    "    yticklabels=genres\n",
    ")\n",
    "plt.xlabel('true label')\n",
    "plt.ylabel('predicted label');\n"
   ]
  },
  {
   "cell_type": "code",
   "execution_count": null,
   "metadata": {},
   "outputs": [],
   "source": []
  }
 ],
 "metadata": {
  "kernelspec": {
   "display_name": "Python 3",
   "language": "python",
   "name": "python3"
  },
  "language_info": {
   "codemirror_mode": {
    "name": "ipython",
    "version": 3
   },
   "file_extension": ".py",
   "mimetype": "text/x-python",
   "name": "python",
   "nbconvert_exporter": "python",
   "pygments_lexer": "ipython3",
   "version": "3.7.6"
  }
 },
 "nbformat": 4,
 "nbformat_minor": 4
}
