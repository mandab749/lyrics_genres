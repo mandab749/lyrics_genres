{
 "cells": [
  {
   "cell_type": "markdown",
   "metadata": {},
   "source": [
    "# Predicting Song Genre from Song Lyrics\n",
    "\n",
    "### Predicting using Naive Bayes (Part 2)\n",
    "\n",
    "The data is an accumulation of 380,000+ lyrics from the website MetroLyrics.com. We have multiple artists in 10 varying genres ranging from Pop & Rock to Indie & Folk. The songs range from years 1960 to 2016. \n",
    "\n",
    "The goal of the project was, as said in title, to predict genre based on the lyrics. In order to tackle this problem, this involved doing natural language processing in order to effectively analyze the lyrics. "
   ]
  },
  {
   "cell_type": "code",
   "execution_count": 2,
   "metadata": {},
   "outputs": [],
   "source": [
    "import pandas as pd\n",
    "import numpy as np\n",
    "from nltk.tokenize import word_tokenize\n",
    "from nltk import pos_tag\n",
    "from nltk.corpus import stopwords\n",
    "from nltk.stem import WordNetLemmatizer\n",
    "from sklearn.preprocessing import LabelEncoder\n",
    "from collections import defaultdict\n",
    "from nltk.corpus import wordnet as wn\n",
    "from sklearn.feature_extraction.text import TfidfVectorizer\n",
    "from sklearn import model_selection, naive_bayes, svm\n",
    "from sklearn.metrics import accuracy_score\n",
    "import seaborn as sns\n",
    "from PIL import Image\n",
    "from wordcloud import WordCloud, STOPWORDS, ImageColorGenerator\n",
    "from sklearn.feature_extraction.text import CountVectorizer\n",
    "from sklearn.naive_bayes import MultinomialNB\n",
    "from sklearn.metrics import roc_auc_score\n",
    "from sklearn import preprocessing"
   ]
  },
  {
   "cell_type": "code",
   "execution_count": 3,
   "metadata": {
    "scrolled": false
   },
   "outputs": [
    {
     "name": "stderr",
     "output_type": "stream",
     "text": [
      "[nltk_data] Downloading package wordnet to\n",
      "[nltk_data]     C:\\Users\\Manda\\AppData\\Roaming\\nltk_data...\n",
      "[nltk_data]   Package wordnet is already up-to-date!\n",
      "[nltk_data] Downloading package averaged_perceptron_tagger to\n",
      "[nltk_data]     C:\\Users\\Manda\\AppData\\Roaming\\nltk_data...\n",
      "[nltk_data]   Package averaged_perceptron_tagger is already up-to-\n",
      "[nltk_data]       date!\n",
      "[nltk_data] Downloading package stopwords to\n",
      "[nltk_data]     C:\\Users\\Manda\\AppData\\Roaming\\nltk_data...\n",
      "[nltk_data]   Package stopwords is already up-to-date!\n",
      "[nltk_data] Downloading package punkt to\n",
      "[nltk_data]     C:\\Users\\Manda\\AppData\\Roaming\\nltk_data...\n",
      "[nltk_data]   Package punkt is already up-to-date!\n"
     ]
    },
    {
     "data": {
      "text/plain": [
       "True"
      ]
     },
     "execution_count": 3,
     "metadata": {},
     "output_type": "execute_result"
    }
   ],
   "source": [
    "import nltk\n",
    "nltk.download('wordnet')\n",
    "nltk.download('averaged_perceptron_tagger')\n",
    "nltk.download('stopwords')\n",
    "nltk.download('punkt')"
   ]
  },
  {
   "cell_type": "markdown",
   "metadata": {},
   "source": [
    "## This is the cleaned lyrics data from Part 1"
   ]
  },
  {
   "cell_type": "code",
   "execution_count": 4,
   "metadata": {},
   "outputs": [],
   "source": [
    "df2 = pd.read_csv('lyrics_final.csv', delimiter=',')"
   ]
  },
  {
   "cell_type": "markdown",
   "metadata": {},
   "source": [
    "### Split Data for Train & Test"
   ]
  },
  {
   "cell_type": "code",
   "execution_count": 5,
   "metadata": {
    "scrolled": true
   },
   "outputs": [],
   "source": [
    "Train_X, Test_X, Train_Y, Test_Y = model_selection.train_test_split(df2['lyrics_final'],df2['genre'],test_size=0.3)"
   ]
  },
  {
   "cell_type": "markdown",
   "metadata": {},
   "source": [
    "# What is TFIDF Vectorizer - Measuring Originality\n",
    "\n",
    "### TFIDF - term-frequency x inverse document-frequency\n",
    "\n",
    "TFIDF takes an occurence of a token (i.e. a lemmatized word) in the data and scales down the impact of these tokens that occur very frequently in our data. In our example, this means a lemmatized word would be \"less informative\" if it occured more frequently across all genres. A key example of this would be the word \"love\".\n",
    "\n",
    "The tf-idf is a statistic that increases with the number of times a word appears in the document (lyrics of a song), penalized by the number of genres in the data that contain that word.\n",
    "\n",
    "However, if a lemmatized word appeared more frequently in a particular genre it would be more valuable/original, and we would  capture that originality which will help us predict the genre of that that group of words. \n",
    "\n",
    "\n",
    "------------------\n",
    "\n",
    "max_df - ignoring terms that have a document frequency higher than 0.7  \n",
    ".fit() - fits the vocabulary and term frequencies of word-vector   \n",
    ".transform() - using \"fit()\" calculation parameters, apply the transformation to a dataset.  \n",
    "  "
   ]
  },
  {
   "cell_type": "code",
   "execution_count": 6,
   "metadata": {},
   "outputs": [],
   "source": [
    "Tfidf_vect = TfidfVectorizer(sublinear_tf=True, max_features=10000, max_df=0.7) #igoring\n",
    "Tfidf_vect.fit(df2['lyrics_final'])\n",
    "Train_X_Tfidf = Tfidf_vect.transform(Train_X)\n",
    "Test_X_Tfidf = Tfidf_vect.transform(Test_X)"
   ]
  },
  {
   "cell_type": "markdown",
   "metadata": {},
   "source": [
    "### What is a TFIDF Vector?\n",
    "\n",
    "First Column: Document index (song lyrics) \n",
    "\n",
    "Second Column: Specific word-vector index (lemmatized word in lyrics)  \n",
    "\n",
    "Third Column: TFIDF score (\"originality score\") for word in lyrics\n",
    "\n",
    "----------------\n",
    "\n",
    "Here is an example of what a tfidf sparse matrix looks like:"
   ]
  },
  {
   "cell_type": "code",
   "execution_count": 7,
   "metadata": {},
   "outputs": [],
   "source": [
    "#vocab dictionary - a mapping of terms to feature indices.\n",
    "#print(Tfidf_vect.vocabulary_)"
   ]
  },
  {
   "cell_type": "markdown",
   "metadata": {},
   "source": [
    "### TFIDF Output\n",
    "\n",
    "We see here a more tangible look at the tfidf sparse matrix using .get_feature_names(). get_features_names() shows, in alphabetical order, the words of the word-vectors that would be in column 2.\n",
    "\n",
    "The print statement is what \"Tfidf_vect.fit(df2['lyrics_final'].head(2)).get_feature_names()\" output looks like but in a more visually friendly way"
   ]
  },
  {
   "cell_type": "code",
   "execution_count": 8,
   "metadata": {},
   "outputs": [],
   "source": [
    "#these are examples of what the second column of tfidf_vect represents\n",
    "#Tfidf_vect.fit(df2['lyrics_final'].head(2)).get_feature_names()"
   ]
  },
  {
   "cell_type": "code",
   "execution_count": 9,
   "metadata": {},
   "outputs": [
    {
     "name": "stdout",
     "output_type": "stream",
     "text": [
      "['accelerate', 'across', 'allow', 'another', 'as', 'away', 'awful', 'back', 'balch', 'blinding', 'bob', 'breakin', 'certain', 'check', 'clear', 'coca', 'cola', 'cold', 'control', 'cover', 'day', 'different', 'dull', 'ever', 'fact', 'fake', 'fault', 'feel', 'field', 'find', 'first', 'fish', 'floor', 'foot', 'four', 'friend', 'gain', 'gasoline', 'give', 'glass', 'go', 'habit', 'hidden', 'impossible', 'known', 'light', 'line', 'little', 'lot', 'mad', 'mean', 'miserable', 'mola', 'motionless', 'never', 'notice', 'observe', 'party', 'pass', 'people', 'pick', 'pretty', 'read', 'revive', 'road', 'rock', 'route', 'say', 'see', 'seem', 'shaky', 'sign', 'sin', 'since', 'start', 'sunday', 'sure', 'talk', 'tell', 'think', 'time', 'urethane', 'watch', 'water', 'way', 'would', 'year']\n"
     ]
    }
   ],
   "source": [
    "print(['accelerate', 'across', 'allow', 'another', 'as', 'away', 'awful', 'back', 'balch', 'blinding', 'bob', 'breakin', 'certain', 'check', 'clear', 'coca', 'cola', 'cold', 'control', 'cover', 'day', 'different', 'dull', 'ever', 'fact', 'fake', 'fault', 'feel', 'field', 'find', 'first', 'fish', 'floor', 'foot', 'four', 'friend', 'gain', 'gasoline', 'give', 'glass', 'go', 'habit', 'hidden', 'impossible', 'known', 'light', 'line', 'little', 'lot', 'mad', 'mean', 'miserable', 'mola', 'motionless', 'never', 'notice', 'observe', 'party', 'pass', 'people', 'pick', 'pretty', 'read', 'revive', 'road', 'rock', 'route', 'say', 'see', 'seem', 'shaky', 'sign', 'sin', 'since', 'start', 'sunday', 'sure', 'talk', 'tell', 'think', 'time', 'urethane', 'watch', 'water', 'way', 'would', 'year'])"
   ]
  },
  {
   "cell_type": "markdown",
   "metadata": {},
   "source": [
    "# Naive Bayes - Multinomial\n",
    "\n",
    "With tfidf, the term frequencies are used to compute the maximum-likelihood estimate based on the training data to estimate the class-conditional probabilities in the multinomial model. "
   ]
  },
  {
   "cell_type": "code",
   "execution_count": 10,
   "metadata": {},
   "outputs": [
    {
     "name": "stdout",
     "output_type": "stream",
     "text": [
      "Naive Bayes Accuracy Score TFIDF: 57.619656298821184\n"
     ]
    }
   ],
   "source": [
    "#TFIDF\n",
    "Naive = naive_bayes.MultinomialNB(alpha = .01)\n",
    "Naive.fit(Train_X_Tfidf,Train_Y)\n",
    "predictions_NB = Naive.predict(Test_X_Tfidf)\n",
    "print(\"Naive Bayes Accuracy Score TFIDF:\",accuracy_score(predictions_NB, Test_Y)*100)\n"
   ]
  },
  {
   "cell_type": "markdown",
   "metadata": {},
   "source": [
    "## Confusion Matrix of True vs Predicted from Naive Bayes\n",
    "\n",
    "\n",
    "Yikes! Rock is overtaking all predictions. Let's look into how we can improve upon that"
   ]
  },
  {
   "cell_type": "code",
   "execution_count": 11,
   "metadata": {
    "scrolled": true
   },
   "outputs": [
    {
     "data": {
      "image/png": "[encoded data removed]",
      "text/plain": [
       "<Figure size 800x640 with 1 Axes>"
      ]
     },
     "metadata": {},
     "output_type": "display_data"
    }
   ],
   "source": [
    "from sklearn.metrics import confusion_matrix\n",
    "import matplotlib.pyplot as plt\n",
    "from matplotlib.pyplot import figure\n",
    "\n",
    "figure(num=None, figsize=(10, 8), dpi=80, facecolor='w', edgecolor='k')\n",
    "\n",
    "genres = ['Jazz','Metal', 'Pop',  'Rock', 'Hip-Hop', 'Country', 'Indie','R&B', 'Electronic', 'Other', 'Folk']\n",
    "mat = confusion_matrix(Test_Y, predictions_NB, genres)\n",
    "sns.heatmap(\n",
    "    mat.T, square=True, annot=True, fmt='d', cbar=False,\n",
    "    xticklabels=genres, \n",
    "    yticklabels=genres\n",
    ")\n",
    "plt.xlabel('true label')\n",
    "plt.ylabel('predicted label');\n"
   ]
  },
  {
   "cell_type": "markdown",
   "metadata": {},
   "source": [
    "### Country Songs that were Predicted Rock\n",
    "\n",
    "\n",
    "Let's take a look at Country songs that were predicted Rock. There should be a decent difference between Country and Rock songs, right? Well, let's figure it out and see how we can improve predictions. "
   ]
  },
  {
   "cell_type": "code",
   "execution_count": 12,
   "metadata": {},
   "outputs": [
    {
     "data": {
      "image/png": "[encoded data removed]",
      "text/plain": [
       "<Figure size 432x288 with 1 Axes>"
      ]
     },
     "metadata": {
      "needs_background": "light"
     },
     "output_type": "display_data"
    }
   ],
   "source": [
    "from sklearn.metrics import confusion_matrix\n",
    "from matplotlib import pyplot as plt\n",
    "\n",
    "genres = ['Rock', 'Country']\n",
    "mat = confusion_matrix(Test_Y, predictions_NB, genres)\n",
    "sns.heatmap(\n",
    "    mat.T, square=True, annot=True, fmt='d', cbar=False,\n",
    "    xticklabels=genres, \n",
    "    yticklabels=genres\n",
    ")\n",
    "plt.xlabel('true label')\n",
    "plt.ylabel('predicted label');"
   ]
  },
  {
   "cell_type": "markdown",
   "metadata": {},
   "source": [
    "### Create Dataframe comparing Misclassifications & Predictions \n",
    "\n",
    "Here we create a dataframe, take the true genres, Naive Bayes predictions of genres, and lyrics to try to get a better view of what could have gone wrong (or, how we can improve predictions)"
   ]
  },
  {
   "cell_type": "code",
   "execution_count": 39,
   "metadata": {
    "scrolled": true
   },
   "outputs": [
    {
     "data": {
      "text/html": [
       "<div>\n",
       "<style scoped>\n",
       "    .dataframe tbody tr th:only-of-type {\n",
       "        vertical-align: middle;\n",
       "    }\n",
       "\n",
       "    .dataframe tbody tr th {\n",
       "        vertical-align: top;\n",
       "    }\n",
       "\n",
       "    .dataframe thead th {\n",
       "        text-align: right;\n",
       "    }\n",
       "</style>\n",
       "<table border=\"1\" class=\"dataframe\">\n",
       "  <thead>\n",
       "    <tr style=\"text-align: right;\">\n",
       "      <th></th>\n",
       "      <th>testx</th>\n",
       "      <th>testy</th>\n",
       "      <th>predict</th>\n",
       "    </tr>\n",
       "  </thead>\n",
       "  <tbody>\n",
       "    <tr>\n",
       "      <th>3445</th>\n",
       "      <td>['tonight', 'gon', 'love', 'tonight', 'gon', '...</td>\n",
       "      <td>Pop</td>\n",
       "      <td>Rock</td>\n",
       "    </tr>\n",
       "    <tr>\n",
       "      <th>17890</th>\n",
       "      <td>['thomas', 'eriksson', 'l', 'peter', 'johansso...</td>\n",
       "      <td>Metal</td>\n",
       "      <td>Metal</td>\n",
       "    </tr>\n",
       "    <tr>\n",
       "      <th>30277</th>\n",
       "      <td>['tell', 'anyone', 'way', 'hold', 'hand', 'tel...</td>\n",
       "      <td>Pop</td>\n",
       "      <td>Rock</td>\n",
       "    </tr>\n",
       "    <tr>\n",
       "      <th>8912</th>\n",
       "      <td>['transcendental', 'meditation', 'emancipate',...</td>\n",
       "      <td>Rock</td>\n",
       "      <td>Rock</td>\n",
       "    </tr>\n",
       "    <tr>\n",
       "      <th>45958</th>\n",
       "      <td>['preguntan', 'pinos', 'pudo', 'fugar', 'carga...</td>\n",
       "      <td>Indie</td>\n",
       "      <td>Pop</td>\n",
       "    </tr>\n",
       "    <tr>\n",
       "      <th>...</th>\n",
       "      <td>...</td>\n",
       "      <td>...</td>\n",
       "      <td>...</td>\n",
       "    </tr>\n",
       "    <tr>\n",
       "      <th>17607</th>\n",
       "      <td>['joe', 'lion', 'go', 'bar', 'couple', 'drink'...</td>\n",
       "      <td>Rock</td>\n",
       "      <td>Rock</td>\n",
       "    </tr>\n",
       "    <tr>\n",
       "      <th>30065</th>\n",
       "      <td>['young', 'think', 'think', 'think', 'do', 'th...</td>\n",
       "      <td>Indie</td>\n",
       "      <td>Rock</td>\n",
       "    </tr>\n",
       "    <tr>\n",
       "      <th>23347</th>\n",
       "      <td>['boundary', 'far', 'go', 'catch', 'clutch', '...</td>\n",
       "      <td>Metal</td>\n",
       "      <td>Metal</td>\n",
       "    </tr>\n",
       "    <tr>\n",
       "      <th>23220</th>\n",
       "      <td>['meet', 'sweep', 'foot', 'boyish', 'smile', '...</td>\n",
       "      <td>R&amp;B</td>\n",
       "      <td>Rock</td>\n",
       "    </tr>\n",
       "    <tr>\n",
       "      <th>9617</th>\n",
       "      <td>['time', 'since', 'choose', 'sail', 'away', 't...</td>\n",
       "      <td>Electronic</td>\n",
       "      <td>Rock</td>\n",
       "    </tr>\n",
       "  </tbody>\n",
       "</table>\n",
       "<p>14082 rows × 3 columns</p>\n",
       "</div>"
      ],
      "text/plain": [
       "                                                   testx       testy predict\n",
       "3445   ['tonight', 'gon', 'love', 'tonight', 'gon', '...         Pop    Rock\n",
       "17890  ['thomas', 'eriksson', 'l', 'peter', 'johansso...       Metal   Metal\n",
       "30277  ['tell', 'anyone', 'way', 'hold', 'hand', 'tel...         Pop    Rock\n",
       "8912   ['transcendental', 'meditation', 'emancipate',...        Rock    Rock\n",
       "45958  ['preguntan', 'pinos', 'pudo', 'fugar', 'carga...       Indie     Pop\n",
       "...                                                  ...         ...     ...\n",
       "17607  ['joe', 'lion', 'go', 'bar', 'couple', 'drink'...        Rock    Rock\n",
       "30065  ['young', 'think', 'think', 'think', 'do', 'th...       Indie    Rock\n",
       "23347  ['boundary', 'far', 'go', 'catch', 'clutch', '...       Metal   Metal\n",
       "23220  ['meet', 'sweep', 'foot', 'boyish', 'smile', '...         R&B    Rock\n",
       "9617   ['time', 'since', 'choose', 'sail', 'away', 't...  Electronic    Rock\n",
       "\n",
       "[14082 rows x 3 columns]"
      ]
     },
     "execution_count": 39,
     "metadata": {},
     "output_type": "execute_result"
    }
   ],
   "source": [
    "test_predict_genre = {'testx': Test_X, 'testy': Test_Y, 'predict': predictions_NB}\n",
    "dfnew = pd.DataFrame(test_predict_genre)\n",
    "dfnew"
   ]
  },
  {
   "cell_type": "markdown",
   "metadata": {},
   "source": [
    "### Now let's narrow down the data even further for Country vs Rock\n",
    "\n",
    "Now we'll take songs that were actually Country (testy column) and compare them to ones that were predicted as Rock (predict column) so we can individually look at examples of lyrics that were misclassified.\n",
    "\n",
    "Here we will see two different dataframes. \"dfcountryrock\" are songs that were predicted as Rock although they were actually Country. \"dfrockrock\" are songs that were predicted as Rock when their actual value was Rock as well."
   ]
  },
  {
   "cell_type": "code",
   "execution_count": 49,
   "metadata": {},
   "outputs": [
    {
     "data": {
      "text/html": [
       "<div>\n",
       "<style scoped>\n",
       "    .dataframe tbody tr th:only-of-type {\n",
       "        vertical-align: middle;\n",
       "    }\n",
       "\n",
       "    .dataframe tbody tr th {\n",
       "        vertical-align: top;\n",
       "    }\n",
       "\n",
       "    .dataframe thead th {\n",
       "        text-align: right;\n",
       "    }\n",
       "</style>\n",
       "<table border=\"1\" class=\"dataframe\">\n",
       "  <thead>\n",
       "    <tr style=\"text-align: right;\">\n",
       "      <th></th>\n",
       "      <th>testx</th>\n",
       "      <th>testy</th>\n",
       "      <th>predict</th>\n",
       "    </tr>\n",
       "  </thead>\n",
       "  <tbody>\n",
       "    <tr>\n",
       "      <th>25818</th>\n",
       "      <td>['well', 'baby', 'know', 'love', 'sure', 'easy...</td>\n",
       "      <td>Country</td>\n",
       "      <td>Rock</td>\n",
       "    </tr>\n",
       "    <tr>\n",
       "      <th>19124</th>\n",
       "      <td>['write', 'billy', 'burnette', 'ava', 'aldridg...</td>\n",
       "      <td>Country</td>\n",
       "      <td>Rock</td>\n",
       "    </tr>\n",
       "    <tr>\n",
       "      <th>15200</th>\n",
       "      <td>['give', 'anything', 'today', 'help', 'needed'...</td>\n",
       "      <td>Country</td>\n",
       "      <td>Rock</td>\n",
       "    </tr>\n",
       "    <tr>\n",
       "      <th>5652</th>\n",
       "      <td>['monday', 'friday', 'night', 'highway', 'long...</td>\n",
       "      <td>Country</td>\n",
       "      <td>Rock</td>\n",
       "    </tr>\n",
       "    <tr>\n",
       "      <th>28422</th>\n",
       "      <td>['well', 'meet', 'pretty', 'little', 'girl', '...</td>\n",
       "      <td>Country</td>\n",
       "      <td>Rock</td>\n",
       "    </tr>\n",
       "    <tr>\n",
       "      <th>...</th>\n",
       "      <td>...</td>\n",
       "      <td>...</td>\n",
       "      <td>...</td>\n",
       "    </tr>\n",
       "    <tr>\n",
       "      <th>1291</th>\n",
       "      <td>['leave', 'set', 'cry', 'time', 'aside', 'know...</td>\n",
       "      <td>Country</td>\n",
       "      <td>Rock</td>\n",
       "    </tr>\n",
       "    <tr>\n",
       "      <th>28874</th>\n",
       "      <td>['love', 'river', 'drowning', 'would', 'get', ...</td>\n",
       "      <td>Country</td>\n",
       "      <td>Rock</td>\n",
       "    </tr>\n",
       "    <tr>\n",
       "      <th>43306</th>\n",
       "      <td>['sunny', 'yesterday', 'life', 'fill', 'rain',...</td>\n",
       "      <td>Country</td>\n",
       "      <td>Rock</td>\n",
       "    </tr>\n",
       "    <tr>\n",
       "      <th>14630</th>\n",
       "      <td>['smile', 'somebody', 'love', 'smile', 'take',...</td>\n",
       "      <td>Country</td>\n",
       "      <td>Rock</td>\n",
       "    </tr>\n",
       "    <tr>\n",
       "      <th>40294</th>\n",
       "      <td>['hurt', 'little', 'tell', 'say', 'hurt', 'lit...</td>\n",
       "      <td>Country</td>\n",
       "      <td>Rock</td>\n",
       "    </tr>\n",
       "  </tbody>\n",
       "</table>\n",
       "<p>735 rows × 3 columns</p>\n",
       "</div>"
      ],
      "text/plain": [
       "                                                   testx    testy predict\n",
       "25818  ['well', 'baby', 'know', 'love', 'sure', 'easy...  Country    Rock\n",
       "19124  ['write', 'billy', 'burnette', 'ava', 'aldridg...  Country    Rock\n",
       "15200  ['give', 'anything', 'today', 'help', 'needed'...  Country    Rock\n",
       "5652   ['monday', 'friday', 'night', 'highway', 'long...  Country    Rock\n",
       "28422  ['well', 'meet', 'pretty', 'little', 'girl', '...  Country    Rock\n",
       "...                                                  ...      ...     ...\n",
       "1291   ['leave', 'set', 'cry', 'time', 'aside', 'know...  Country    Rock\n",
       "28874  ['love', 'river', 'drowning', 'would', 'get', ...  Country    Rock\n",
       "43306  ['sunny', 'yesterday', 'life', 'fill', 'rain',...  Country    Rock\n",
       "14630  ['smile', 'somebody', 'love', 'smile', 'take',...  Country    Rock\n",
       "40294  ['hurt', 'little', 'tell', 'say', 'hurt', 'lit...  Country    Rock\n",
       "\n",
       "[735 rows x 3 columns]"
      ]
     },
     "execution_count": 49,
     "metadata": {},
     "output_type": "execute_result"
    }
   ],
   "source": [
    "#taking all Test_Y that were country but classified as Rock\n",
    "dfmisscountry = dfnew['testy'] == 'Country'\n",
    "dftest = dfnew[dfmisscountry] \n",
    "\n",
    "#Now take values of predictions that = Rock\n",
    "dftestpredictrock = dftest['predict'] == 'Rock'\n",
    "dfcountryrock = dftest[dftestpredictrock]\n",
    "dfcountryrock"
   ]
  },
  {
   "cell_type": "code",
   "execution_count": 50,
   "metadata": {
    "scrolled": true
   },
   "outputs": [
    {
     "data": {
      "text/html": [
       "<div>\n",
       "<style scoped>\n",
       "    .dataframe tbody tr th:only-of-type {\n",
       "        vertical-align: middle;\n",
       "    }\n",
       "\n",
       "    .dataframe tbody tr th {\n",
       "        vertical-align: top;\n",
       "    }\n",
       "\n",
       "    .dataframe thead th {\n",
       "        text-align: right;\n",
       "    }\n",
       "</style>\n",
       "<table border=\"1\" class=\"dataframe\">\n",
       "  <thead>\n",
       "    <tr style=\"text-align: right;\">\n",
       "      <th></th>\n",
       "      <th>testx</th>\n",
       "      <th>testy</th>\n",
       "      <th>predict</th>\n",
       "    </tr>\n",
       "  </thead>\n",
       "  <tbody>\n",
       "    <tr>\n",
       "      <th>8912</th>\n",
       "      <td>['transcendental', 'meditation', 'emancipate',...</td>\n",
       "      <td>Rock</td>\n",
       "      <td>Rock</td>\n",
       "    </tr>\n",
       "    <tr>\n",
       "      <th>9492</th>\n",
       "      <td>['sunday', 'best', 'blanket', 'silence', 'perf...</td>\n",
       "      <td>Rock</td>\n",
       "      <td>Rock</td>\n",
       "    </tr>\n",
       "    <tr>\n",
       "      <th>4955</th>\n",
       "      <td>['bring', 'flower', 'bed', 'wish', 'know', 'ti...</td>\n",
       "      <td>Rock</td>\n",
       "      <td>Rock</td>\n",
       "    </tr>\n",
       "    <tr>\n",
       "      <th>40836</th>\n",
       "      <td>['life', 'little', 'sunlight', 'want', 'shine'...</td>\n",
       "      <td>Rock</td>\n",
       "      <td>Rock</td>\n",
       "    </tr>\n",
       "    <tr>\n",
       "      <th>40680</th>\n",
       "      <td>['three', 'mile', 'river']</td>\n",
       "      <td>Rock</td>\n",
       "      <td>Rock</td>\n",
       "    </tr>\n",
       "    <tr>\n",
       "      <th>...</th>\n",
       "      <td>...</td>\n",
       "      <td>...</td>\n",
       "      <td>...</td>\n",
       "    </tr>\n",
       "    <tr>\n",
       "      <th>35455</th>\n",
       "      <td>['come', 'time', 'u', 'must', 'leave', 'nothin...</td>\n",
       "      <td>Rock</td>\n",
       "      <td>Rock</td>\n",
       "    </tr>\n",
       "    <tr>\n",
       "      <th>12679</th>\n",
       "      <td>['another', 'friday', 'night', 'get', 'feeling...</td>\n",
       "      <td>Rock</td>\n",
       "      <td>Rock</td>\n",
       "    </tr>\n",
       "    <tr>\n",
       "      <th>9488</th>\n",
       "      <td>['wind', 'ruthless', 'tree', 'shake', 'angry',...</td>\n",
       "      <td>Rock</td>\n",
       "      <td>Rock</td>\n",
       "    </tr>\n",
       "    <tr>\n",
       "      <th>41199</th>\n",
       "      <td>['warm', 'sun', 'feed', 'leery', 'load', 'loat...</td>\n",
       "      <td>Rock</td>\n",
       "      <td>Rock</td>\n",
       "    </tr>\n",
       "    <tr>\n",
       "      <th>17607</th>\n",
       "      <td>['joe', 'lion', 'go', 'bar', 'couple', 'drink'...</td>\n",
       "      <td>Rock</td>\n",
       "      <td>Rock</td>\n",
       "    </tr>\n",
       "  </tbody>\n",
       "</table>\n",
       "<p>5753 rows × 3 columns</p>\n",
       "</div>"
      ],
      "text/plain": [
       "                                                   testx testy predict\n",
       "8912   ['transcendental', 'meditation', 'emancipate',...  Rock    Rock\n",
       "9492   ['sunday', 'best', 'blanket', 'silence', 'perf...  Rock    Rock\n",
       "4955   ['bring', 'flower', 'bed', 'wish', 'know', 'ti...  Rock    Rock\n",
       "40836  ['life', 'little', 'sunlight', 'want', 'shine'...  Rock    Rock\n",
       "40680                         ['three', 'mile', 'river']  Rock    Rock\n",
       "...                                                  ...   ...     ...\n",
       "35455  ['come', 'time', 'u', 'must', 'leave', 'nothin...  Rock    Rock\n",
       "12679  ['another', 'friday', 'night', 'get', 'feeling...  Rock    Rock\n",
       "9488   ['wind', 'ruthless', 'tree', 'shake', 'angry',...  Rock    Rock\n",
       "41199  ['warm', 'sun', 'feed', 'leery', 'load', 'loat...  Rock    Rock\n",
       "17607  ['joe', 'lion', 'go', 'bar', 'couple', 'drink'...  Rock    Rock\n",
       "\n",
       "[5753 rows x 3 columns]"
      ]
     },
     "execution_count": 50,
     "metadata": {},
     "output_type": "execute_result"
    }
   ],
   "source": [
    "#taking all Test_Y that were Rock \n",
    "dfrock = dfnew['testy'] == 'Rock'\n",
    "dftest = dfnew[dfrock] \n",
    "\n",
    "#Now take values of predictions that = Rock\n",
    "dftestpredictrock2 = dftest['predict'] == 'Rock'\n",
    "dfrockrock = dftest[dftestpredictrock2]\n",
    "dfrockrock"
   ]
  },
  {
   "cell_type": "markdown",
   "metadata": {},
   "source": [
    "###  Let's Dive into Songs\n",
    "\n",
    "I actually looked at individual examples of songs because I wanted to see what the computer sees. Some songs I couldn't even distinguish whether or not they were country. Some songs, however, were very obviously Country once I dove into the data. So, how will be fix these incorrect predictions? "
   ]
  },
  {
   "cell_type": "code",
   "execution_count": 56,
   "metadata": {},
   "outputs": [
    {
     "data": {
      "text/plain": [
       "testx      ['give', 'anything', 'today', 'help', 'needed'...\n",
       "testy                                                Country\n",
       "predict                                                 Rock\n",
       "Name: 15200, dtype: object"
      ]
     },
     "execution_count": 56,
     "metadata": {},
     "output_type": "execute_result"
    }
   ],
   "source": [
    "#Example of song that was predicted as Rock even though it was Country\n",
    "dfcountryrock.loc[15200]"
   ]
  },
  {
   "cell_type": "code",
   "execution_count": 59,
   "metadata": {
    "scrolled": true
   },
   "outputs": [
    {
     "data": {
      "text/plain": [
       "\"['give', 'anything', 'today', 'help', 'needed', 'soul', 'way', 'dawn', 'set', 'sun', 'wound', 'anyone', 'shall', 'weep', 'do', 'today', 'today', 'day', 'day', 'fail', 'great', 'flame', 'way', 'know', 'do', 'best', 'go', 'take', 'rest', 'let', 'name', 'bless', 'today', 'make', 'person', 'glad', 'today', 'help', 'someone', 'mortal', 'day', 'cancel', 'sad', 'try', 'make', 'poor', 'heart', 'glad', 'answer', 'wisdom', 'today', 'today', 'day']\""
      ]
     },
     "execution_count": 59,
     "metadata": {},
     "output_type": "execute_result"
    }
   ],
   "source": [
    "#Let's go look at original data to get the full lyrics of that particular example\n",
    "df2.loc[15200]['lyrics_final']"
   ]
  },
  {
   "cell_type": "markdown",
   "metadata": {},
   "source": [
    "### Words in Country vs Rock Songs\n",
    "\n",
    "I wanted to see if there were particular words in Country songs that were not normally in Rock songs. Even though not an avid listener to Country music I knew that Country songs used unique nouns. To test my theory, I created a dictionary of words that I believed should be in Country songs more often than Rock songs. "
   ]
  },
  {
   "cell_type": "code",
   "execution_count": 133,
   "metadata": {},
   "outputs": [],
   "source": [
    "country_dict = ['broncos', 'amarillo', 'rodeo', 'truck', 'trucks', 'cabin', 'honky', 'tonk', 'dog', 'horse', 'country', \n",
    "                'roadhouse', 'cotton', 'corn', 'acres', 'swingin', 'creek', 'prarie', \n",
    "                'honey', 'county', 'fence', 'boots', 'cowboy', 'beer', 'texas', 'oklahoma', 'backroad', 'tea', 'church', 'god',\n",
    "               'drunk', 'lord', 'gravel']"
   ]
  },
  {
   "cell_type": "markdown",
   "metadata": {},
   "source": [
    "### Comparing Certain Words in Country vs Rock\n",
    "\n",
    "I used CountVectorizer() so that I could obtain an actual count of certain words that were used in Country songs vs Rock songs. Here we loop through the lyrics to get a count of words in the misclassification dataframes. \n",
    "\n",
    "Based on words I chose for \"country_dict\", we are able to see that certain words do show up more in Country songs and Rock Songs. The eventual goal, which I ended up not implementing, was to add weight to certain words in TFIDF function that were more important for particular genres. By adding weight to these words, the goal would be to have more accurate predictions (at least for Country vs Rock). "
   ]
  },
  {
   "cell_type": "code",
   "execution_count": 134,
   "metadata": {},
   "outputs": [],
   "source": [
    "import pandas as pd\n",
    "import numpy as np    \n",
    "from sklearn.feature_extraction.text import CountVectorizer\n",
    "\n",
    "cv = CountVectorizer()   \n",
    "cv_fitrock =cv.fit_transform(dfrockrock['testx']) \n",
    "cv_fitcountry =cv.fit_transform(dfcountryrock['testx'])    \n",
    "\n",
    "word_list = cv.get_feature_names();    \n",
    "count_listrock = cv_fitrock.toarray().sum(axis=0)  \n",
    "count_listcountry = cv_fitcountry.toarray().sum(axis=0)  "
   ]
  },
  {
   "cell_type": "code",
   "execution_count": 135,
   "metadata": {},
   "outputs": [
    {
     "name": "stdout",
     "output_type": "stream",
     "text": [
      "amarillo 1\n",
      "beer 23\n",
      "cabin 2\n",
      "church 26\n",
      "corn 6\n",
      "cotton 11\n",
      "country 73\n",
      "county 38\n",
      "cowboy 21\n",
      "creek 10\n",
      "dog 42\n",
      "drunk 5\n",
      "fence 6\n",
      "god 125\n",
      "gravel 1\n",
      "honey 50\n",
      "honky 20\n",
      "horse 16\n",
      "lord 109\n",
      "oklahoma 7\n",
      "rodeo 14\n",
      "swingin 2\n",
      "tea 2\n",
      "texas 24\n",
      "tonk 7\n",
      "truck 22\n"
     ]
    }
   ],
   "source": [
    "y = dict(zip(word_list,count_listcountry))\n",
    "for key in y:\n",
    "    if key in country_dict:\n",
    "        print(key, y[key])"
   ]
  },
  {
   "cell_type": "code",
   "execution_count": 137,
   "metadata": {
    "scrolled": true
   },
   "outputs": [
    {
     "name": "stdout",
     "output_type": "stream",
     "text": [
      "amarillo 1\n",
      "beer 1\n",
      "cabin 1\n",
      "church 1\n",
      "corn 1\n",
      "cotton 2\n",
      "country 2\n",
      "county 3\n",
      "cowboy 4\n",
      "creek 1\n",
      "dog 1\n",
      "drunk 1\n",
      "fence 1\n",
      "god 2\n",
      "gravel 1\n",
      "honey 1\n",
      "honky 1\n",
      "horse 12\n",
      "lord 1\n",
      "oklahoma 18\n",
      "rodeo 4\n",
      "swingin 15\n",
      "tea 1\n",
      "texas 5\n",
      "tonk 345\n",
      "truck 180\n"
     ]
    }
   ],
   "source": [
    "y = dict(zip(word_list,count_listrock))\n",
    "for key in y:\n",
    "    if key in country_dict:\n",
    "        print(key, y[key])"
   ]
  },
  {
   "cell_type": "markdown",
   "metadata": {},
   "source": [
    "# In Conclusion\n",
    "### Getting There!\n",
    "\n",
    "Yay! We do see some success with certain words occuring more in Country songs vs Rock Songs! Some words that occured in Rock songs were pretty surprising (such as the high occurence of \"tonk\" and \"truck\"). But, we do see light at the end of the tunnel. Were I to explore this path further of adding more weight to certain words, I would gather a larger dictionary of words and add the appropriate weights for TFIDF to make better predictions. \n",
    "\n",
    "Other ideas would be to do an unsupervised learning method, do SVM (support vector machine) as a prediction method as well. "
   ]
  }
 ],
 "metadata": {
  "kernelspec": {
   "display_name": "Python 3",
   "language": "python",
   "name": "python3"
  },
  "language_info": {
   "codemirror_mode": {
    "name": "ipython",
    "version": 3
   },
   "file_extension": ".py",
   "mimetype": "text/x-python",
   "name": "python",
   "nbconvert_exporter": "python",
   "pygments_lexer": "ipython3",
   "version": "3.7.6"
  }
 },
 "nbformat": 4,
 "nbformat_minor": 4
}
